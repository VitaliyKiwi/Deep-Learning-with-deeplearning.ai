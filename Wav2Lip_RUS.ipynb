{
  "nbformat": 4,
  "nbformat_minor": 0,
  "metadata": {
    "colab": {
      "name": "Wav2Lip RUS.ipynb",
      "provenance": [],
      "include_colab_link": true
    },
    "kernelspec": {
      "name": "python3",
      "display_name": "Python 3"
    },
    "accelerator": "GPU"
  },
  "cells": [
    {
      "cell_type": "markdown",
      "metadata": {
        "id": "view-in-github",
        "colab_type": "text"
      },
      "source": [
        "<a href=\"https://colab.research.google.com/github/VitaliyKiwi/Deep-Learning-with-deeplearning.ai/blob/master/Wav2Lip_RUS.ipynb\" target=\"_parent\"><img src=\"https://colab.research.google.com/assets/colab-badge.svg\" alt=\"Open In Colab\"/></a>"
      ]
    },
    {
      "cell_type": "markdown",
      "metadata": {
        "id": "r2JvhcRNGa7H"
      },
      "source": [
        "<b><font color=\"black\" size=\"+4\">Wav2Lip Colab Rus</font></b>\n",
        "\n",
        "<b><font color=\"black\" size=\"+2\">Базируется на:</font></b>\n",
        "\n",
        "**GitHub репозиторий**: [Wav2Lip](https://github.com/Rudrabha/Wav2Lip)\n",
        "\n",
        "Статья: [A Lip Sync Expert Is All You Need for Speech to Lip Generation In The Wild](http://arxiv.org/abs/2008.10010)\n",
        "\n",
        "Авторы: **[K R Prajwal](https://scholar.google.co.in/citations?user=C-wGb2sAAAAJ&hl=en), [Rudrabha Mukhopadhyay](https://scholar.google.com/citations?user=sbkDAPcAAAAJ&hl=en), [Vinay P. Namboodiri](https://vinaypn.github.io/), [C V Jawahar](https://faculty.iiit.ac.in/~jawahar/index.html).**\n",
        "\n",
        "<b><font color=\"black\" size=\"+2\">Колаб собрал:</font></b>\n",
        "\n",
        "GitHub: [@tg-bomze](https://github.com/tg-bomze),\n",
        "Telegram: [@bomze](https://t.me/bomze),\n",
        "Twitter: [@tg_bomze](https://twitter.com/tg_bomze).\n",
        "\n",
        "\n",
        "```\n",
        "Далее тыкай на кнопки (куда указывает красная стрелка) в каждом блоке поочередно. После нажатия дождись окончания выполнения.\n",
        "```\n",
        "\n"
      ]
    },
    {
      "cell_type": "code",
      "metadata": {
        "id": "P3LihClHbUd3"
      },
      "source": [
        "#@title <b><font color=\"red\" size=\"+3\">←</font><font color=\"black\" size=\"+3\"> Клонируем репозиторий и устанавливаем все необходимые компоненты</font></b>\n",
        "\n",
        "import warnings\n",
        "from google.colab import drive\n",
        "from IPython.display import clear_output\n",
        "from google.colab import files\n",
        "import os\n",
        "warnings.filterwarnings(\"ignore\")\n",
        "\n",
        "if 'Wav2Lip' not in os.listdir('/content/'):\n",
        "  !sudo apt-get upgrade ffmpeg\n",
        "  !git clone https://github.com/tg-bomze/Wav2Lip.git\n",
        "  !pip install -r /content/Wav2Lip/requirements.txt\n",
        "  !pip install numba==0.48\n",
        "%cd /content/Wav2Lip\n",
        "clear_output()"
      ],
      "execution_count": 30,
      "outputs": []
    },
    {
      "cell_type": "code",
      "metadata": {
        "id": "qciH4PsUazL_"
      },
      "source": [
        "\n",
        "import tensorflow as tf\n",
        "clear_output()\n",
        "print(\"Перейдите по ссылке ниже, выберите аккаунт, куда сохранили предобученную модель,\")\n",
        "print(\"нажмите на кнопку 'Разрешить', скопируйте авторизационный код в нижнее поле и нажмите Enter.\")\n",
        "drive.mount('/content/drive')\n",
        "clear_output()\n",
        "print(\"0%/100%   Copying has started.\")\n",
        "!cp -ri \"/content/drive/My Drive/Wav2lip/wav2lip_gan.pth\" /content/Wav2Lip/checkpoints/\n",
        "print(\"80%/100%  Checkpoints copied\")\n",
        "!cp -ri \"/content/drive/My Drive/Wav2lip/s3fd.pth\" /content/Wav2Lip/face_detection/detection/sfd/\n",
        "print(\"100%/100% Dictionary copied\")\n",
        "clear_output()"
      ],
      "execution_count": 42,
      "outputs": []
    },
    {
      "cell_type": "code",
      "metadata": {
        "id": "L1UguvFWgeT7",
        "outputId": "a4e72cb8-9489-4d8e-d016-971f49fb4403",
        "colab": {
          "base_uri": "https://localhost:8080/",
          "height": 101
        }
      },
      "source": [
        "#@title <b><font color=\"red\" size=\"+3\">←</font><font color=\"black\" size=\"+3\"> Загружаем аудиофайл (или видео) с речью</font></b>\n",
        "\n",
        "uploaded = list(files.upload().keys())\n",
        "\n",
        "if len(uploaded) > 1:\n",
        "  raise ValueError('You cannot upload more than one video at a time!')\n",
        "\n",
        "aud = uploaded[0]\n",
        "os.rename(aud, aud.replace(\" \", \"\"))\n",
        "aud = aud.replace(\" \", \"\")\n",
        "aud_name = \"audio.\" + aud.split(\".\")[-1]\n",
        "!mv -f $aud $aud_name\n",
        "aud = '/content/Wav2Lip/' + aud_name\n",
        "clear_output()\n",
        "print(\"Uploaded!\")"
      ],
      "execution_count": 40,
      "outputs": [
        {
          "output_type": "stream",
          "name": "stdout",
          "text": [
            "Uploaded!\n"
          ]
        }
      ]
    },
    {
      "cell_type": "code",
      "source": [
        "pip install --upgrade tf_slim"
      ],
      "metadata": {
        "id": "m9X9DB5PtflW"
      },
      "execution_count": null,
      "outputs": []
    },
    {
      "cell_type": "code",
      "source": [
        "!unzip /content/Wav2Lip/s3fd-619a316812.pth.zip"
      ],
      "metadata": {
        "id": "AhcEGSfOzu2Q",
        "outputId": "cc3b046c-de63-4a7b-a1e8-a366e58ece97",
        "colab": {
          "base_uri": "https://localhost:8080/"
        }
      },
      "execution_count": 35,
      "outputs": [
        {
          "output_type": "stream",
          "name": "stdout",
          "text": [
            "Archive:  /content/Wav2Lip/s3fd-619a316812.pth.zip\n",
            "  inflating: s3fd-619a316812.pth     \n"
          ]
        }
      ]
    },
    {
      "cell_type": "code",
      "source": [
        "!unzip /content/wav2lip_gan.pth.zip"
      ],
      "metadata": {
        "id": "bgOguXSp3ka9",
        "outputId": "7624cf3f-2940-4ca6-c978-247b77711dee",
        "colab": {
          "base_uri": "https://localhost:8080/"
        }
      },
      "execution_count": 47,
      "outputs": [
        {
          "output_type": "stream",
          "name": "stdout",
          "text": [
            "Archive:  /content/wav2lip_gan.pth.zip\n",
            "  inflating: wav2lip_gan.pth         \n"
          ]
        }
      ]
    },
    {
      "cell_type": "code",
      "metadata": {
        "id": "1EAgQmcRkI1f",
        "outputId": "63ceb2e7-4f4f-4f13-940b-538a0137340c",
        "colab": {
          "base_uri": "https://localhost:8080/"
        }
      },
      "source": [
        "#@title <b><font color=\"red\" size=\"+3\">←</font><font color=\"black\" size=\"+3\"> Синхронизируем движение губ</font></b>\n",
        "\n",
        "%%time\n",
        "#!python inference.py --checkpoint_path checkpoints/wav2lip_gan.pth --face $vid --audio $aud --resize_factor 2\n",
        "!python inference.py --checkpoint_path checkpoints/wav2lip_gan.pth --face $vid --audio $aud\n",
        "if 'result_voice.mp4' in os.listdir('/content/Wav2Lip/results/'):\n",
        "  clear_output()\n",
        "  print('Все отлично. Файл сгенерировался!')\n",
        "else:\n",
        "  print('\\nВозникли какие-то проблемы. Файл не сгенерировался')"
      ],
      "execution_count": 48,
      "outputs": [
        {
          "output_type": "stream",
          "name": "stdout",
          "text": [
            "Все отлично. Файл сгенерировался!\n",
            "CPU times: user 1.34 s, sys: 90 ms, total: 1.43 s\n",
            "Wall time: 1min 21s\n"
          ]
        }
      ]
    },
    {
      "cell_type": "code",
      "metadata": {
        "id": "_nBRvdP9jICw",
        "outputId": "653656d5-1129-4b0d-cf7f-20495226b939",
        "colab": {
          "base_uri": "https://localhost:8080/",
          "height": 17
        }
      },
      "source": [
        "#@title <b><font color=\"red\" size=\"+3\">←</font><font color=\"black\" size=\"+3\"> Скачиваем итоговый результат</font></b>\n",
        "files.download('/content/Wav2Lip/results/result_voice.mp4')"
      ],
      "execution_count": 49,
      "outputs": [
        {
          "output_type": "display_data",
          "data": {
            "text/plain": [
              "<IPython.core.display.Javascript object>"
            ],
            "application/javascript": [
              "\n",
              "    async function download(id, filename, size) {\n",
              "      if (!google.colab.kernel.accessAllowed) {\n",
              "        return;\n",
              "      }\n",
              "      const div = document.createElement('div');\n",
              "      const label = document.createElement('label');\n",
              "      label.textContent = `Downloading \"${filename}\": `;\n",
              "      div.appendChild(label);\n",
              "      const progress = document.createElement('progress');\n",
              "      progress.max = size;\n",
              "      div.appendChild(progress);\n",
              "      document.body.appendChild(div);\n",
              "\n",
              "      const buffers = [];\n",
              "      let downloaded = 0;\n",
              "\n",
              "      const channel = await google.colab.kernel.comms.open(id);\n",
              "      // Send a message to notify the kernel that we're ready.\n",
              "      channel.send({})\n",
              "\n",
              "      for await (const message of channel.messages) {\n",
              "        // Send a message to notify the kernel that we're ready.\n",
              "        channel.send({})\n",
              "        if (message.buffers) {\n",
              "          for (const buffer of message.buffers) {\n",
              "            buffers.push(buffer);\n",
              "            downloaded += buffer.byteLength;\n",
              "            progress.value = downloaded;\n",
              "          }\n",
              "        }\n",
              "      }\n",
              "      const blob = new Blob(buffers, {type: 'application/binary'});\n",
              "      const a = document.createElement('a');\n",
              "      a.href = window.URL.createObjectURL(blob);\n",
              "      a.download = filename;\n",
              "      div.appendChild(a);\n",
              "      a.click();\n",
              "      div.remove();\n",
              "    }\n",
              "  "
            ]
          },
          "metadata": {}
        },
        {
          "output_type": "display_data",
          "data": {
            "text/plain": [
              "<IPython.core.display.Javascript object>"
            ],
            "application/javascript": [
              "download(\"download_62bb7d8e-84bf-404f-9f5d-2e0bfc3d44c2\", \"result_voice.mp4\", 4608035)"
            ]
          },
          "metadata": {}
        }
      ]
    }
  ]
}